{
 "cells": [
  {
   "cell_type": "markdown",
   "id": "594ed09b-82da-4c4d-83fd-c3573593457c",
   "metadata": {},
   "source": [
    "# Finite Fields 03: $\\mathbb{F}_{2^4}$ over $\\mathbb{F}_2$"
   ]
  },
  {
   "cell_type": "code",
   "execution_count": 56,
   "id": "897ce2b5-2dc8-4d2c-b85d-cf92a170a5c6",
   "metadata": {
    "editable": true,
    "slideshow": {
     "slide_type": ""
    },
    "tags": []
   },
   "outputs": [],
   "source": [
    "# Constructing F16, the four extensions \n",
    "#\n",
    "# Outline \n",
    "\n",
    "#   1. Minimal polynomial\n",
    "#   2. order\n",
    "#   3. Isomorphism\n",
    "#   4. Extension\n",
    "\n",
    "\n",
    "# Define Galois Field F2\n",
    "\n",
    "F2 = GF(2)\n",
    "\n",
    "# Define the polynomial ring over F2\n",
    "\n",
    "R2.<x> = F2[]\n",
    "\n",
    "def conjugates(t):\n",
    "    r = []\n",
    "    for i in [1,2,4,8,16]:\n",
    "        t2 = t^i\n",
    "        if t2 in r:\n",
    "            continue\n",
    "        r.append(t^i)\n",
    "    return r\n",
    "\n",
    "def ord(elem, card=None):\n",
    "    K = elem.parent()\n",
    "    if card == None:\n",
    "        card = K.order()\n",
    "    for i in range(1, card):\n",
    "        if elem**i == 1:\n",
    "            return i\n",
    "    return \"False\"\n",
    "\n",
    "def log(s, t):\n",
    "    K = s.parent()\n",
    "    for i in range(1, K.order()):\n",
    "        if s^i == t:\n",
    "            return i\n",
    "    return \"Failed\"\n",
    "    \n",
    "def is_homomorphic(a, b, card=None):\n",
    "    if card == None:\n",
    "        card = a.parent().order()\n",
    "    result = True\n",
    "    for i in range(1, card):\n",
    "        for j in range(1, card):\n",
    "            aij = a^i + a^j\n",
    "            bij = b^i + b^j\n",
    "            r = log(a, aij) == log(b, bij)\n",
    "            if not r:\n",
    "                print(\"{},{}: ({}) + ({}) != ({}) + ({})\".format(i,j,a^i, a^j,b^i, b^j))\n",
    "                return\n",
    "            result = result and r\n",
    "    return result\n",
    "\n",
    "def is_isomorphic(a, b):\n",
    "    return (is_homomorphic(a, b) and is_homomorphic(b, a))\n",
    "    \n",
    "def search_roots(g, poly):\n",
    "    K = g.parent()\n",
    "    r = []\n",
    "    for t in K:\n",
    "        v = poly.subs(t)\n",
    "        if v == 0:\n",
    "            r.append(t)\n",
    "    return r"
   ]
  },
  {
   "cell_type": "code",
   "execution_count": 2,
   "id": "02e62f5f-82d1-445f-a6bd-acd0e56dec43",
   "metadata": {},
   "outputs": [
    {
     "data": {
      "text/plain": [
       "[0,\n",
       " a,\n",
       " a^2,\n",
       " a^3,\n",
       " a + 1,\n",
       " a^2 + a,\n",
       " a^3 + a^2,\n",
       " a^3 + a + 1,\n",
       " a^2 + 1,\n",
       " a^3 + a,\n",
       " a^2 + a + 1,\n",
       " a^3 + a^2 + a,\n",
       " a^3 + a^2 + a + 1,\n",
       " a^3 + a^2 + 1,\n",
       " a^3 + 1,\n",
       " 1]"
      ]
     },
     "execution_count": 2,
     "metadata": {},
     "output_type": "execute_result"
    }
   ],
   "source": [
    "# Define F16 as a quartic extension over F2\n",
    "\n",
    "F16_a.<a> = F2.extension(x^4 + x + 1, 'a')\n",
    "F16_a.list()"
   ]
  },
  {
   "cell_type": "code",
   "execution_count": 3,
   "id": "e5014a4b-8d7e-4b65-9fdb-72e677dca68e",
   "metadata": {
    "editable": true,
    "slideshow": {
     "slide_type": ""
    },
    "tags": []
   },
   "outputs": [
    {
     "name": "stdout",
     "output_type": "stream",
     "text": [
      "1: a\n",
      "2: a^2\n",
      "3: a^3\n",
      "4: a + 1\n",
      "5: a^2 + a\n",
      "6: a^3 + a^2\n",
      "7: a^3 + a + 1\n",
      "8: a^2 + 1\n",
      "9: a^3 + a\n",
      "10: a^2 + a + 1\n",
      "11: a^3 + a^2 + a\n",
      "12: a^3 + a^2 + a + 1\n",
      "13: a^3 + a^2 + 1\n",
      "14: a^3 + 1\n",
      "15: 1\n"
     ]
    }
   ],
   "source": [
    "# List all elements with `a^i`\n",
    "\n",
    "for i in range(1,16): print(\"{}: {}\".format(i, a^i))\n",
    "\n",
    "# We can conclude that `a` is a primitive element of F16"
   ]
  },
  {
   "cell_type": "code",
   "execution_count": 4,
   "id": "05294b55-e235-44b5-aa1d-cf0b4fa9951a",
   "metadata": {},
   "outputs": [
    {
     "data": {
      "text/plain": [
       "x * (x + 1) * (x^2 + x + 1) * (x^4 + x + 1) * (x^4 + x^3 + 1) * (x^4 + x^3 + x^2 + x + 1)"
      ]
     },
     "execution_count": 4,
     "metadata": {},
     "output_type": "execute_result"
    }
   ],
   "source": [
    "# F16 is the splitting field of (x^16 - x), but which cannot be factorized completely over F2[x]\n",
    "\n",
    "# Keep in mind that `x` is the indeterminate of F2[x] Ring.\n",
    "\n",
    "(x^16 - x).factor()\n",
    "\n",
    "# Output: \n",
    "#\n",
    "# (x^16 - x) = \n",
    "#       x * (x + 1) * (x^2 + x + 1) \n",
    "#         * (x^4 + x + 1) * (x^4 + x^3 + 1) \n",
    "#         * (x^4 + x^3 + x^2 + x + 1)"
   ]
  },
  {
   "cell_type": "code",
   "execution_count": 5,
   "id": "5263c4c4-e491-49c0-81bc-a6fd5ea63428",
   "metadata": {
    "editable": true,
    "slideshow": {
     "slide_type": ""
    },
    "tags": []
   },
   "outputs": [
    {
     "name": "stdout",
     "output_type": "stream",
     "text": [
      "  1, ord=15, \t a\n",
      "  2, ord=15, \t a^2\n",
      "  3, ord=5, \t a^3\n",
      "  4, ord=15, \t a + 1\n",
      "  5, ord=3, \t a^2 + a\n",
      "  6, ord=5, \t a^3 + a^2\n",
      "  7, ord=15, \t a^3 + a + 1\n",
      "  8, ord=15, \t a^2 + 1\n",
      "  9, ord=5, \t a^3 + a\n",
      " 10, ord=3, \t a^2 + a + 1\n",
      " 11, ord=15, \t a^3 + a^2 + a\n",
      " 12, ord=5, \t a^3 + a^2 + a + 1\n",
      " 13, ord=15, \t a^3 + a^2 + 1\n",
      " 14, ord=15, \t a^3 + 1\n",
      " 15, ord=1, \t 1\n"
     ]
    }
   ],
   "source": [
    "# According to the factorization, all elements in F16_a \n",
    "#   can be partitioned into 5 sets:\n",
    "#\n",
    "#   [0, 1]                  // from F2\n",
    "#   [?, ?]                  // 2 distinct roots from  `x^2 + x + 1`\n",
    "#   [?, ?, ?, ?]            // 4 distinct roots from `x^4 + x + 1`\n",
    "#   [?, ?, ?, ?]            // 4 distinct roots from `x^4 + x^3 + 1`\n",
    "#   [?, ?, ?, ?]            // 4 distinct roots from `x^4 + x^3 + x^2 + x + 1`\n",
    "\n",
    "# List the orders of all elements:\n",
    "\n",
    "for i in range(1,16): print(\"{:3}, ord={}, \\t {}\".format(i, ord(a^i), a^i))"
   ]
  },
  {
   "cell_type": "code",
   "execution_count": 6,
   "id": "598b8402-02df-4eac-9f50-fa98e6a848bd",
   "metadata": {
    "editable": true,
    "slideshow": {
     "slide_type": ""
    },
    "tags": []
   },
   "outputs": [
    {
     "data": {
      "text/plain": [
       "[a, a^2, a + 1, a^2 + 1]"
      ]
     },
     "execution_count": 6,
     "metadata": {},
     "output_type": "execute_result"
    }
   ],
   "source": [
    "# According to the factorization, all elements in F16_a \n",
    "#   can be partitioned into 5 sets:\n",
    "#\n",
    "#   [0, 1]  // from F2\n",
    "#   [a^2 + a, a^2 + a + 1]     // 2 roots from  `x^2 + x + 1`,  ord(.) = 3\n",
    "#   [?, ?, ?, ?]               // 4 roots from  `x^4 + x + 1`,  \n",
    "#   [?, ?, ?, ?]               // 4 roots from `x^4 + x^3 + 1`\n",
    "#   [?, ?, ?, ?]               // 4 roots from `x^4 + x^3 + x^2 + x + 1`\n",
    "\n",
    "conjugates(a)\n",
    "\n",
    "# Output: \n",
    "#  [a, a^2, a + 1, a^2 + 1]"
   ]
  },
  {
   "cell_type": "code",
   "execution_count": 7,
   "id": "356c2052-1565-4db0-93f1-6134b2aac439",
   "metadata": {
    "editable": true,
    "slideshow": {
     "slide_type": ""
    },
    "tags": []
   },
   "outputs": [
    {
     "data": {
      "text/plain": [
       "[a^3 + 1, a^3 + a^2 + 1, a^3 + a^2 + a, a^3 + a + 1]"
      ]
     },
     "execution_count": 7,
     "metadata": {},
     "output_type": "execute_result"
    }
   ],
   "source": [
    "# According to the factorization, all elements in F16_a \n",
    "#   can be partitioned into 5 sets:\n",
    "#\n",
    "#   [0, 1]  // from F2\n",
    "#   [a^2 + a, a^2 + a + 1]     // 2 roots from  `x^2 + x + 1`,  ord(.) = 3\n",
    "#   [a, a^2, a + 1, a^2 + 1]   // 4 roots from  `x^4 + x + 1`,  ord(.) = 15\n",
    "#   [?, ?, ?, ?]               // 4 roots from `x^4 + x^3 + 1`\n",
    "#   [?, ?, ?, ?]               // 4 roots from `x^4 + x^3 + x^2 + x + 1`\n",
    "\n",
    "# Find some element whose order is 15 but not in `conjugates(a)`\n",
    "\n",
    "conjugates(a^3 + 1)\n",
    "\n",
    "# Output: \n",
    "#  [a^3 + 1, a^3 + a^2 + 1, a^3 + a^2 + a, a^3 + a + 1]"
   ]
  },
  {
   "cell_type": "code",
   "execution_count": 8,
   "id": "7aca5c69-4f5e-4d73-8203-1c3f835f2fd2",
   "metadata": {
    "editable": true,
    "slideshow": {
     "slide_type": ""
    },
    "tags": []
   },
   "outputs": [
    {
     "data": {
      "text/plain": [
       "([a^3, a^3 + a^2, a^3 + a^2 + a + 1, a^3 + a], 5)"
      ]
     },
     "execution_count": 8,
     "metadata": {},
     "output_type": "execute_result"
    }
   ],
   "source": [
    "# According to the factorization, all elements in F16_a \n",
    "#   can be partitioned into 5 sets:\n",
    "#\n",
    "#   [0, 1]  // from F2\n",
    "#   [a^2 + a, a^2 + a + 1]                                  // 2 roots from  `x^2 + x + 1`,  ord(.) = 3\n",
    "#   [a, a^2, a + 1, a^2 + 1]                                // 4 roots from  `x^4 + x + 1`,  ord(.) = 15\n",
    "#   [a^3 + 1, a^3 + a^2 + 1, a^3 + a^2 + a, a^3 + a + 1]    // 4 roots from `x^4 + x^3 + 1`  ord(.) = 15\n",
    "#   [?, ?, ?, ?]                                            // 4 roots from `x^4 + x^3 + x^2 + x + 1`\n",
    "\n",
    "# The remain elements are with order 5, and they are conjugates\n",
    "\n",
    "conjugates(a^3), ord(a^3)\n",
    "\n",
    "# Output: \n",
    "#  [a^3, a^3 + a^2, a^3 + a^2 + a + 1, a^3 + a], 5"
   ]
  },
  {
   "cell_type": "code",
   "execution_count": 9,
   "id": "a40a59f0-8205-44d5-8f1f-1e1701afb04b",
   "metadata": {
    "editable": true,
    "slideshow": {
     "slide_type": ""
    },
    "tags": []
   },
   "outputs": [
    {
     "data": {
      "text/plain": [
       "True"
      ]
     },
     "execution_count": 9,
     "metadata": {},
     "output_type": "execute_result"
    }
   ],
   "source": [
    "# All elements in F16_a can be partitioned into 5 sets:\n",
    "#\n",
    "#   [0, 1]  // from F2\n",
    "#   [a^2 + a, a^2 + a + 1]                                  // 2 roots from  `x^2 + x + 1`,  ord(.) = 3\n",
    "#   [a, a^2, a + 1, a^2 + 1]                                // 4 roots from  `x^4 + x + 1`,  ord(.) = 15\n",
    "#   [a^3 + 1, a^3 + a^2 + 1, a^3 + a^2 + a, a^3 + a + 1]    // 4 roots from `x^4 + x^3 + 1`  ord(.) = 15\n",
    "#   [a^3, a^3 + a^2, a^3 + a^2 + a + 1, a^3 + a]            // 4 roots from `x^4 + x^3 + x^2 + x + 1`  ord(.) = 5\n",
    "\n",
    "def ff_splitting_polynomial(F):\n",
    "    poly = 1\n",
    "    for t in F:\n",
    "        poly = poly * (x - t)    \n",
    "    return poly \n",
    "\n",
    "ff_splitting_polynomial(F16_a) == x^16 - x\n",
    "\n",
    "# Output: \n",
    "#  [a^3, a^3 + a^2, a^3 + a^2 + a + 1, a^3 + a], 5"
   ]
  },
  {
   "cell_type": "code",
   "execution_count": 10,
   "id": "a737dfeb-e1ac-4d4b-b7cd-35ed8866bdab",
   "metadata": {
    "editable": true,
    "slideshow": {
     "slide_type": ""
    },
    "tags": []
   },
   "outputs": [
    {
     "data": {
      "text/plain": [
       "x^4 + x^3 + x^2 + x + 1"
      ]
     },
     "execution_count": 10,
     "metadata": {},
     "output_type": "execute_result"
    }
   ],
   "source": [
    "# Minimal Polynomial\n",
    "\n",
    "# The minimal polynomial f(x) of `t` over K is the monic polynomial in K[x] of least \n",
    "# degree having `f(t) = 0`\n",
    "\n",
    "# One simple way of computing minial polynomial is to compute the vanishing polynomial of conjugate roots\n",
    "\n",
    "def minimal_poly(t, X):\n",
    "    roots = conjugates(t)\n",
    "    poly = 1\n",
    "    for r in roots:\n",
    "        poly = poly * (X+r)\n",
    "    return poly\n",
    "\n",
    "# Compute minimal polynomial of a^3 over F2, since `x` is the indeterminate of F2[x]\n",
    "\n",
    "minimal_poly(a^3, x)"
   ]
  },
  {
   "cell_type": "code",
   "execution_count": 11,
   "id": "674ca638-52ce-4c68-a50e-ec97437e1e03",
   "metadata": {
    "editable": true,
    "slideshow": {
     "slide_type": ""
    },
    "tags": []
   },
   "outputs": [
    {
     "name": "stdout",
     "output_type": "stream",
     "text": [
      " 1, ord=15, \t mini-poly=x^4 + x + 1, \t\t a\n",
      " 2, ord=15, \t mini-poly=x^4 + x + 1, \t\t a^2\n",
      " 3, ord=5, \t mini-poly=x^4 + x^3 + x^2 + x + 1, \t\t a^3\n",
      " 4, ord=15, \t mini-poly=x^4 + x + 1, \t\t a + 1\n",
      " 5, ord=3, \t mini-poly=x^2 + x + 1, \t\t a^2 + a\n",
      " 6, ord=5, \t mini-poly=x^4 + x^3 + x^2 + x + 1, \t\t a^3 + a^2\n",
      " 7, ord=15, \t mini-poly=x^4 + x^3 + 1, \t\t a^3 + a + 1\n",
      " 8, ord=15, \t mini-poly=x^4 + x + 1, \t\t a^2 + 1\n",
      " 9, ord=5, \t mini-poly=x^4 + x^3 + x^2 + x + 1, \t\t a^3 + a\n",
      "10, ord=3, \t mini-poly=x^2 + x + 1, \t\t a^2 + a + 1\n",
      "11, ord=15, \t mini-poly=x^4 + x^3 + 1, \t\t a^3 + a^2 + a\n",
      "12, ord=5, \t mini-poly=x^4 + x^3 + x^2 + x + 1, \t\t a^3 + a^2 + a + 1\n",
      "13, ord=15, \t mini-poly=x^4 + x^3 + 1, \t\t a^3 + a^2 + 1\n",
      "14, ord=15, \t mini-poly=x^4 + x^3 + 1, \t\t a^3 + 1\n",
      "15, ord=1, \t mini-poly=x + 1, \t\t 1\n"
     ]
    }
   ],
   "source": [
    "# Show the minimal polynomial over F2 for each elements from F16^*\n",
    "\n",
    "for i in range(1,16):\n",
    "    print(\"{:2}, ord={}, \\t mini-poly={}, \\t\\t {}\".format(i, ord(a^i), minimal_poly(a^i, x), a^i))"
   ]
  },
  {
   "cell_type": "code",
   "execution_count": 12,
   "id": "d485dad9-6e65-4b58-bc89-11fb7a47abd5",
   "metadata": {
    "editable": true,
    "slideshow": {
     "slide_type": ""
    },
    "tags": []
   },
   "outputs": [
    {
     "data": {
      "text/plain": [
       "Finite Field in b of size 2^4"
      ]
     },
     "execution_count": 12,
     "metadata": {},
     "output_type": "execute_result"
    }
   ],
   "source": [
    "# There are three irreducible polynomials\n",
    "#\n",
    "#  (x^4 + x + 1), (x^4 + x^3 + 1) and (x^4 + x^3 + x^2 + x + 1) \n",
    "\n",
    "# So we have two more different approaches to construct F16 by using \n",
    "#   (x^4 + x^3 + 1) and (x^4 + x^3 + x^2 + x + 1)\n",
    "\n",
    "# The second definition of F16, 4-degree extension over F2\n",
    "\n",
    "F16_b.<b> = F2.extension(x^4 + x^3 + 1, 'b')\n",
    "F16_b"
   ]
  },
  {
   "cell_type": "code",
   "execution_count": 13,
   "id": "373ade20-9197-4c28-9199-dac5bb06ca5f",
   "metadata": {
    "editable": true,
    "slideshow": {
     "slide_type": ""
    },
    "tags": []
   },
   "outputs": [
    {
     "data": {
      "text/plain": [
       "x^4 + x^3 + 1"
      ]
     },
     "execution_count": 13,
     "metadata": {},
     "output_type": "execute_result"
    }
   ],
   "source": [
    "minimal_poly(b, x)"
   ]
  },
  {
   "cell_type": "code",
   "execution_count": 14,
   "id": "43fa361e-2216-45b1-b781-2e9c15a4fd20",
   "metadata": {
    "editable": true,
    "slideshow": {
     "slide_type": ""
    },
    "tags": []
   },
   "outputs": [
    {
     "data": {
      "text/plain": [
       "x^4 + x^3 + x^2 + x + 1"
      ]
     },
     "execution_count": 14,
     "metadata": {},
     "output_type": "execute_result"
    }
   ],
   "source": [
    "minimal_poly(b+1, x)"
   ]
  },
  {
   "cell_type": "code",
   "execution_count": 15,
   "id": "81b806be-2533-4211-a77d-b2729f9f3365",
   "metadata": {
    "editable": true,
    "slideshow": {
     "slide_type": ""
    },
    "tags": []
   },
   "outputs": [
    {
     "data": {
      "text/plain": [
       "x^4 + x + 1"
      ]
     },
     "execution_count": 15,
     "metadata": {},
     "output_type": "execute_result"
    }
   ],
   "source": [
    "minimal_poly(b^2+b, x)"
   ]
  },
  {
   "cell_type": "code",
   "execution_count": 16,
   "id": "4d9347e2-f05b-4d26-a267-83130c039697",
   "metadata": {
    "editable": true,
    "slideshow": {
     "slide_type": ""
    },
    "tags": []
   },
   "outputs": [
    {
     "data": {
      "text/plain": [
       "([b, b^2, b^3 + 1, b^3 + b^2 + b], [b + 1, b^2 + 1, b^3, b^3 + b^2 + b + 1])"
      ]
     },
     "execution_count": 16,
     "metadata": {},
     "output_type": "execute_result"
    }
   ],
   "source": [
    "conjugates(b), conjugates(b+1)"
   ]
  },
  {
   "cell_type": "code",
   "execution_count": 17,
   "id": "c50f7cc2-e9c8-46be-987b-f7123e80c93d",
   "metadata": {
    "editable": true,
    "slideshow": {
     "slide_type": ""
    },
    "tags": []
   },
   "outputs": [
    {
     "data": {
      "text/plain": [
       "[b^2 + b, b^3 + b^2 + 1, b^2 + b + 1, b^3 + b^2]"
      ]
     },
     "execution_count": 17,
     "metadata": {},
     "output_type": "execute_result"
    }
   ],
   "source": [
    "conjugates(b^2+b)"
   ]
  },
  {
   "cell_type": "code",
   "execution_count": 18,
   "id": "6ae0f6b2-938e-4692-b050-f9ac188f069d",
   "metadata": {
    "editable": true,
    "slideshow": {
     "slide_type": ""
    },
    "tags": []
   },
   "outputs": [
    {
     "name": "stdout",
     "output_type": "stream",
     "text": [
      " 1, ord=15, \t mini-poly=x^4 + x^3 + 1, \t\t b\n",
      " 2, ord=15, \t mini-poly=x^4 + x^3 + 1, \t\t b^2\n",
      " 3, ord=5, \t mini-poly=x^4 + x^3 + x^2 + x + 1, \t\t b^3\n",
      " 4, ord=15, \t mini-poly=x^4 + x^3 + 1, \t\t b^3 + 1\n",
      " 5, ord=3, \t mini-poly=x^2 + x + 1, \t\t b^3 + b + 1\n",
      " 6, ord=5, \t mini-poly=x^4 + x^3 + x^2 + x + 1, \t\t b^3 + b^2 + b + 1\n",
      " 7, ord=15, \t mini-poly=x^4 + x + 1, \t\t b^2 + b + 1\n",
      " 8, ord=15, \t mini-poly=x^4 + x^3 + 1, \t\t b^3 + b^2 + b\n",
      " 9, ord=5, \t mini-poly=x^4 + x^3 + x^2 + x + 1, \t\t b^2 + 1\n",
      "10, ord=3, \t mini-poly=x^2 + x + 1, \t\t b^3 + b\n",
      "11, ord=15, \t mini-poly=x^4 + x + 1, \t\t b^3 + b^2 + 1\n",
      "12, ord=5, \t mini-poly=x^4 + x^3 + x^2 + x + 1, \t\t b + 1\n",
      "13, ord=15, \t mini-poly=x^4 + x + 1, \t\t b^2 + b\n",
      "14, ord=15, \t mini-poly=x^4 + x + 1, \t\t b^3 + b^2\n",
      "15, ord=1, \t mini-poly=x + 1, \t\t 1\n"
     ]
    }
   ],
   "source": [
    "# Partition of F16_b:\n",
    "#\n",
    "#   [0, 1]  // from F2\n",
    "#   [b^3 + b, b^3 + b + 1]                           // from  `x^2 + x + 1`\n",
    "#   [b^2 + b, b^3 + b^2 + 1, b^2 + b + 1, b^3 + b^2] // from `x^4 + x + 1`\n",
    "#   [b, b^2, b^3 + 1, b^3 + b^2 + b]                 // from `x^4 + x^3 + 1`\n",
    "#   [b + 1, b^2 + 1, b^3, b^3 + b^2 + b + 1]         // from `x^4 + x^3 + x^2 + x + 1`\n",
    "\n",
    "for i in range(1,16):\n",
    "    print(\"{:2}, ord={}, \\t mini-poly={}, \\t\\t {}\".format(i, ord(b^i), minimal_poly(b^i, x), b^i))"
   ]
  },
  {
   "cell_type": "code",
   "execution_count": 19,
   "id": "181e07fb-7d60-4d8d-a11f-fcf6f734df9f",
   "metadata": {
    "editable": true,
    "slideshow": {
     "slide_type": ""
    },
    "tags": []
   },
   "outputs": [
    {
     "data": {
      "text/plain": [
       "Finite Field in c of size 2^4"
      ]
     },
     "execution_count": 19,
     "metadata": {},
     "output_type": "execute_result"
    }
   ],
   "source": [
    "# The third approach of constructing F16\n",
    "\n",
    "F16_c.<c> = F2.extension(x^4 + x^3 + x^2 + x + 1, 'c')\n",
    "F16_c"
   ]
  },
  {
   "cell_type": "code",
   "execution_count": 20,
   "id": "e92d2420-0e70-42a6-90af-97bbae6377b0",
   "metadata": {},
   "outputs": [
    {
     "data": {
      "text/plain": [
       "x^4 + x^3 + x^2 + x + 1"
      ]
     },
     "execution_count": 20,
     "metadata": {},
     "output_type": "execute_result"
    }
   ],
   "source": [
    "minimal_poly(c, x)"
   ]
  },
  {
   "cell_type": "code",
   "execution_count": 21,
   "id": "43b1bf1b-1488-4096-a1d4-2ca5887b4493",
   "metadata": {},
   "outputs": [
    {
     "data": {
      "text/plain": [
       "x^4 + x^3 + 1"
      ]
     },
     "execution_count": 21,
     "metadata": {},
     "output_type": "execute_result"
    }
   ],
   "source": [
    "minimal_poly(c+1, x)"
   ]
  },
  {
   "cell_type": "code",
   "execution_count": 22,
   "id": "d57be91d-71f6-4fe9-b403-b879d7cbd42d",
   "metadata": {},
   "outputs": [
    {
     "data": {
      "text/plain": [
       "x^4 + x + 1"
      ]
     },
     "execution_count": 22,
     "metadata": {},
     "output_type": "execute_result"
    }
   ],
   "source": [
    "minimal_poly(c^2 + c, x)"
   ]
  },
  {
   "cell_type": "code",
   "execution_count": 23,
   "id": "76c5d30e-c611-4db8-a97f-e36c085d4aad",
   "metadata": {},
   "outputs": [
    {
     "name": "stdout",
     "output_type": "stream",
     "text": [
      " 1, ord=5, \t mini-poly=x^4 + x^3 + x^2 + x + 1, \t\t c\n",
      " 2, ord=5, \t mini-poly=x^4 + x^3 + x^2 + x + 1, \t\t c^2\n",
      " 3, ord=5, \t mini-poly=x^4 + x^3 + x^2 + x + 1, \t\t c^3\n",
      " 4, ord=5, \t mini-poly=x^4 + x^3 + x^2 + x + 1, \t\t c^3 + c^2 + c + 1\n",
      " 5, ord=1, \t mini-poly=x + 1, \t\t 1\n",
      " 6, ord=5, \t mini-poly=x^4 + x^3 + x^2 + x + 1, \t\t c\n",
      " 7, ord=5, \t mini-poly=x^4 + x^3 + x^2 + x + 1, \t\t c^2\n",
      " 8, ord=5, \t mini-poly=x^4 + x^3 + x^2 + x + 1, \t\t c^3\n",
      " 9, ord=5, \t mini-poly=x^4 + x^3 + x^2 + x + 1, \t\t c^3 + c^2 + c + 1\n",
      "10, ord=1, \t mini-poly=x + 1, \t\t 1\n",
      "11, ord=5, \t mini-poly=x^4 + x^3 + x^2 + x + 1, \t\t c\n",
      "12, ord=5, \t mini-poly=x^4 + x^3 + x^2 + x + 1, \t\t c^2\n",
      "13, ord=5, \t mini-poly=x^4 + x^3 + x^2 + x + 1, \t\t c^3\n",
      "14, ord=5, \t mini-poly=x^4 + x^3 + x^2 + x + 1, \t\t c^3 + c^2 + c + 1\n",
      "15, ord=1, \t mini-poly=x + 1, \t\t 1\n"
     ]
    }
   ],
   "source": [
    "# F16_c Partition\n",
    "\n",
    "for i in range(1,16):\n",
    "    print(\"{:2}, ord={}, \\t mini-poly={}, \\t\\t {}\".format(i, ord(c^i), minimal_poly(c^i, x), c^i))\n",
    "\n",
    "# Ooops, `c` is not a primitive element of F16_c\n",
    "#\n",
    "# Why??"
   ]
  },
  {
   "cell_type": "code",
   "execution_count": 24,
   "id": "f58f2781-f888-4550-aa33-f2049a617fab",
   "metadata": {},
   "outputs": [
    {
     "data": {
      "text/plain": [
       "15"
      ]
     },
     "execution_count": 24,
     "metadata": {},
     "output_type": "execute_result"
    }
   ],
   "source": [
    "# Find a primitive element whose order is `15`\n",
    "\n",
    "ord(c+1)"
   ]
  },
  {
   "cell_type": "code",
   "execution_count": 25,
   "id": "be10cca1-3892-40a1-971b-2b85eb364750",
   "metadata": {},
   "outputs": [
    {
     "name": "stdout",
     "output_type": "stream",
     "text": [
      " 1, ord=15, \t mini-poly=x^4 + x^3 + 1, \t\t c + 1\n",
      " 2, ord=15, \t mini-poly=x^4 + x^3 + 1, \t\t c^2 + 1\n",
      " 3, ord=5, \t mini-poly=x^4 + x^3 + x^2 + x + 1, \t\t c^3 + c^2 + c + 1\n",
      " 4, ord=15, \t mini-poly=x^4 + x^3 + 1, \t\t c^3 + c^2 + c\n",
      " 5, ord=3, \t mini-poly=x^2 + x + 1, \t\t c^3 + c^2 + 1\n",
      " 6, ord=5, \t mini-poly=x^4 + x^3 + x^2 + x + 1, \t\t c^3\n",
      " 7, ord=15, \t mini-poly=x^4 + x + 1, \t\t c^2 + c + 1\n",
      " 8, ord=15, \t mini-poly=x^4 + x^3 + 1, \t\t c^3 + 1\n",
      " 9, ord=5, \t mini-poly=x^4 + x^3 + x^2 + x + 1, \t\t c^2\n",
      "10, ord=3, \t mini-poly=x^2 + x + 1, \t\t c^3 + c^2\n",
      "11, ord=15, \t mini-poly=x^4 + x + 1, \t\t c^3 + c + 1\n",
      "12, ord=5, \t mini-poly=x^4 + x^3 + x^2 + x + 1, \t\t c\n",
      "13, ord=15, \t mini-poly=x^4 + x + 1, \t\t c^2 + c\n",
      "14, ord=15, \t mini-poly=x^4 + x + 1, \t\t c^3 + c\n",
      "15, ord=1, \t mini-poly=x + 1, \t\t 1\n"
     ]
    }
   ],
   "source": [
    "# F16_c Partition\n",
    "#\n",
    "#   [0, 1]                                              // from F2\n",
    "#   [c^3 + c^2, c^3 + c^2 + 1]                          // from  `x^2 + x + 1`\n",
    "#   [c^2 + c + 1, c^3 + c, c^2 + c, c^3 + c + 1]        // from `x^4 + x + 1`\n",
    "#   [c + 1, c^2 + 1, c^3 + c^2 + c, c^3 + 1]            // from `x^4 + x^3 + 1`\n",
    "#   [c, c^2, c^3 + c^2 + c + 1, c^3]                    // from `x^4 + x^3 + x^2 + x + 1`\n",
    "\n",
    "for i in range(1,16):\n",
    "    print(\"{:2}, ord={}, \\t mini-poly={}, \\t\\t {}\".format(i, ord((c+1)^i), minimal_poly((c+1)^i, x), (c+1)^i))"
   ]
  },
  {
   "cell_type": "code",
   "execution_count": 26,
   "id": "2a3944a6-5007-4d0e-aa77-9a76b06db955",
   "metadata": {
    "editable": true,
    "slideshow": {
     "slide_type": ""
    },
    "tags": []
   },
   "outputs": [
    {
     "data": {
      "text/plain": [
       "5"
      ]
     },
     "execution_count": 26,
     "metadata": {},
     "output_type": "execute_result"
    }
   ],
   "source": [
    "# We can see that (x^4 + x^3 + x^2 + x + 1) is different from the other two irreducible polynomials\n",
    "#\n",
    "# because the order of any of its root is `5` rather than `15`\n",
    "\n",
    "# We introduce a new concept: Order of Polynomial\n",
    "#\n",
    "# Assume f \\in F_p[x], and deg(f) = m, \n",
    "#\n",
    "#  ord_poly(f) = the order of any root of f in F_{p^m}^* (multiplicative group)\n",
    "\n",
    "def ord_poly(f, F):\n",
    "    prim = F.primitive_element()\n",
    "    root = search_roots(prim, f)[0]\n",
    "    return ord(root)\n",
    "\n",
    "ord_poly(x^4 + x^3 + x^2 + x + 1, F16_c)\n",
    "\n",
    "# For any irreducible polynomial m-degree f in F_q,  \n",
    "# \n",
    "#   ord_poly(f, F_{p^m}) divides `q^m - 1`"
   ]
  },
  {
   "cell_type": "code",
   "execution_count": 27,
   "id": "36dc1d94-82cc-4818-a6ee-c2fd9e319b09",
   "metadata": {
    "editable": true,
    "slideshow": {
     "slide_type": ""
    },
    "tags": []
   },
   "outputs": [
    {
     "data": {
      "text/plain": [
       "(15, 15)"
      ]
     },
     "execution_count": 27,
     "metadata": {},
     "output_type": "execute_result"
    }
   ],
   "source": [
    "# The minimal polynomial of a primitive element of F_{p^m} is called\n",
    "#\n",
    "#  Primitive Polynomial\n",
    "\n",
    "# Clearly, (x^4 + x^3 + x^2 + x + 1) is not a primitive polynomial,\n",
    "# but (x^4 + x + 1) and (x^4 + x^3 + 1) are primitive polynomials.\n",
    "\n",
    "# Their orders are equal to (p^m - 1)\n",
    "\n",
    "ord_poly(x^4 + x^3 + 1, F16_c), ord_poly(x^4 + x + 1, F16_c)\n",
    "\n",
    "# Output: \n",
    "#   (15, 15)"
   ]
  },
  {
   "cell_type": "code",
   "execution_count": 28,
   "id": "cd383a26-748b-4375-b0bf-6cba82102560",
   "metadata": {
    "editable": true,
    "slideshow": {
     "slide_type": ""
    },
    "tags": []
   },
   "outputs": [
    {
     "data": {
      "text/plain": [
       "(x^4 + x + 1, x^4 + x + 1)"
      ]
     },
     "execution_count": 28,
     "metadata": {},
     "output_type": "execute_result"
    }
   ],
   "source": [
    "# ISOMORPHISM\n",
    "#\n",
    "# F16_a ~= F16_b ~= F16_c\n",
    "\n",
    "minimal_poly(a, x), minimal_poly(b^2+b, x)\n",
    "\n",
    "# `a` and `b^2 + b` have same minimal polynomial over F2"
   ]
  },
  {
   "cell_type": "code",
   "execution_count": 29,
   "id": "ea8feac2-9399-414b-b5f7-cabac1a4130d",
   "metadata": {
    "editable": true,
    "slideshow": {
     "slide_type": ""
    },
    "tags": []
   },
   "outputs": [
    {
     "data": {
      "text/plain": [
       "(x^4 + x + 1, x^4 + x + 1)"
      ]
     },
     "execution_count": 29,
     "metadata": {},
     "output_type": "execute_result"
    }
   ],
   "source": [
    "# ISOMORPHISM\n",
    "#\n",
    "# F16_a ~= F16_b ~= F16_c\n",
    "\n",
    "minimal_poly(b^2+b, x), minimal_poly(c^2 + c, x)\n",
    "\n",
    "# `a`, `b^2+b` and `c^2 + c` have same minimal polynomial over F2"
   ]
  },
  {
   "cell_type": "code",
   "execution_count": 30,
   "id": "42d7f802-8939-4157-97b1-e071d2f310ba",
   "metadata": {},
   "outputs": [
    {
     "data": {
      "text/plain": [
       "True"
      ]
     },
     "execution_count": 30,
     "metadata": {},
     "output_type": "execute_result"
    }
   ],
   "source": [
    "# Therefore, the map\n",
    "#\n",
    "#    g:  F16_b   --> F16_c\n",
    "#     :  b^2 + b|--> c^2 + c\n",
    "#\n",
    "# is isomorphic\n",
    "\n",
    "is_isomorphic(c^2 + c, b^2+b)"
   ]
  },
  {
   "cell_type": "code",
   "execution_count": 31,
   "id": "e4b59c5c-6ce0-4e42-96d9-6f2962e9b1e0",
   "metadata": {},
   "outputs": [
    {
     "data": {
      "text/plain": [
       "(y + u) * (y + u + 1)"
      ]
     },
     "execution_count": 31,
     "metadata": {},
     "output_type": "execute_result"
    }
   ],
   "source": [
    "# The fourth approach of constructing F16\n",
    "\n",
    "# F4 is subfield of F16 and F16 is a 2-degree extension over F4\n",
    "#\n",
    "# Construct F4 by using `x^2 + x + 1`, one of whose root is denoted by `u`\n",
    "\n",
    "F4.<u> = F2.extension(x^2 + x + 1, 'u')\n",
    "\n",
    "# Let's use a new symbol `y` to denote the indeterminate of polynomials over F4\n",
    "# \n",
    "#   f(y): F4[y]\n",
    "\n",
    "R4.<y> = F4[]\n",
    "\n",
    "# Then we plan to construct a new F16 over F4 by using a 2-degree irreducible polynomial.\n",
    "#\n",
    "# Find one!\n",
    "\n",
    "(y^2 + y + 1).factor()\n",
    "\n",
    "# Output:\n",
    "#    (y + u) * (y + u + 1)\n",
    "#\n",
    "# Clearly, (y^2 + y + 1) is reducible."
   ]
  },
  {
   "cell_type": "code",
   "execution_count": 32,
   "id": "cccc804e-a912-4f72-8781-45fd388ee3ef",
   "metadata": {},
   "outputs": [
    {
     "data": {
      "text/plain": [
       "(y + 1)^2"
      ]
     },
     "execution_count": 32,
     "metadata": {},
     "output_type": "execute_result"
    }
   ],
   "source": [
    "# Quiz: let's add a primitive element to the efficients of f(y)\n",
    "\n",
    "(y^2 + 1).factor()\n",
    "\n",
    "# Output:\n",
    "#    (y + u + 1)^2\n",
    "#\n",
    "# Failed\n",
    "#\n",
    "# (y^2 + u + 1) = (y + u)^2 "
   ]
  },
  {
   "cell_type": "code",
   "execution_count": 33,
   "id": "bdcfdd99-ea74-4842-afdb-287e86359b87",
   "metadata": {},
   "outputs": [
    {
     "data": {
      "text/plain": [
       "y^2 + y + u"
      ]
     },
     "execution_count": 33,
     "metadata": {},
     "output_type": "execute_result"
    }
   ],
   "source": [
    "# Try (y^2 + y + u),\n",
    "\n",
    "(y^2 + y + u).factor()\n",
    "\n",
    "# Output:\n",
    "#    y^2 + y + u\n",
    "#\n",
    "# Made it!\n",
    "#\n",
    "# And try `(y^2 + uy + 1)` or `(y^2 + u*y + u)` "
   ]
  },
  {
   "cell_type": "code",
   "execution_count": 34,
   "id": "a4e0a940-acd1-467a-849e-a9506c2974f9",
   "metadata": {},
   "outputs": [
    {
     "data": {
      "text/plain": [
       "[d, d + u, d + 1, d + u + 1]"
      ]
     },
     "execution_count": 34,
     "metadata": {},
     "output_type": "execute_result"
    }
   ],
   "source": [
    "# Finally, construct F16 over F4 by `y^2 + y + u`\n",
    "\n",
    "F16_d.<d> = F4.extension(y^2 + y + u, 'd')\n",
    "\n",
    "# `d` denotes one root of `y^2 + y + u`\n",
    "\n",
    "# Find other roots of `y^2 + y + u`\n",
    "\n",
    "conjugates(d)"
   ]
  },
  {
   "cell_type": "code",
   "execution_count": 35,
   "id": "bcf12de7-0e3f-4cf4-9406-41383ebd3280",
   "metadata": {},
   "outputs": [
    {
     "data": {
      "text/plain": [
       "15"
      ]
     },
     "execution_count": 35,
     "metadata": {},
     "output_type": "execute_result"
    }
   ],
   "source": [
    "# `d` is the primitive element of F16_d\n",
    "\n",
    "ord(d)\n",
    "\n",
    "# Output:\n",
    "#   15"
   ]
  },
  {
   "cell_type": "code",
   "execution_count": 36,
   "id": "11c2369b-0751-4e74-bb00-dbcc07366c40",
   "metadata": {},
   "outputs": [
    {
     "name": "stdout",
     "output_type": "stream",
     "text": [
      "  1, ord= 15,  d\n",
      "  2, ord= 15,  d + u\n",
      "  3, ord=  5,  (u + 1)*d + u\n",
      "  4, ord= 15,  d + 1\n",
      "  5, ord=  3,  u\n",
      "  6, ord=  5,  u*d\n",
      "  7, ord= 15,  u*d + u + 1\n",
      "  8, ord= 15,  d + u + 1\n",
      "  9, ord=  5,  u*d + u\n",
      " 10, ord=  3,  u + 1\n",
      " 11, ord= 15,  (u + 1)*d\n",
      " 12, ord=  5,  (u + 1)*d + 1\n",
      " 13, ord= 15,  u*d + 1\n",
      " 14, ord= 15,  (u + 1)*d + u + 1\n",
      " 15, ord=  1,  1\n"
     ]
    }
   ],
   "source": [
    "for i in range(1,16): \n",
    "    print(\"{:3}, ord={:3},  {}\".format(i, ord(d^i), d^i, ))"
   ]
  },
  {
   "cell_type": "code",
   "execution_count": 37,
   "id": "0c746457-67ca-4fe8-a6a3-36774982e902",
   "metadata": {},
   "outputs": [
    {
     "data": {
      "text/plain": [
       "True"
      ]
     },
     "execution_count": 37,
     "metadata": {},
     "output_type": "execute_result"
    }
   ],
   "source": [
    "# Compute minimal polynomial of `d` over F2\n",
    "\n",
    "R16.<z> = F16_d[]\n",
    "R16\n",
    "\n",
    "minimal_poly(d, z) == z^4 + z + 1"
   ]
  },
  {
   "cell_type": "code",
   "execution_count": 38,
   "id": "86cee7e6-fcee-496d-963b-98050cfe371d",
   "metadata": {},
   "outputs": [
    {
     "data": {
      "text/plain": [
       "True"
      ]
     },
     "execution_count": 38,
     "metadata": {},
     "output_type": "execute_result"
    }
   ],
   "source": [
    "# Because the minimal polynomial of `d` over F2 is equal to `a` (F16_a),\n",
    "# We can easily define an isomorphic map from F16_a to F16_d\n",
    "#\n",
    "#  f: F16_a  |--> F16_d\n",
    "#   :     a   --> d\n",
    "\n",
    "is_isomorphic(a, d)"
   ]
  },
  {
   "cell_type": "code",
   "execution_count": 39,
   "id": "e180c8aa-1668-45a2-93a6-6eda7a13f9ec",
   "metadata": {},
   "outputs": [
    {
     "data": {
      "text/plain": [
       "([u*d + 1, (u + 1)*d, u*d + u + 1, (u + 1)*d + u + 1],\n",
       " [u*d, (u + 1)*d + 1, u*d + u, (u + 1)*d + u])"
      ]
     },
     "execution_count": 39,
     "metadata": {},
     "output_type": "execute_result"
    }
   ],
   "source": [
    "# F16_d = F4(d) = F2(u)(d) Partition\n",
    "#\n",
    "#   [0, 1]                                                // from F2\n",
    "#   [u, u + 1]                                            // from  `x^2 + x + 1`\n",
    "#   [d, d + u, d + 1, d + u + 1]                          // from `x^4 + x + 1`\n",
    "#   [(u + 1)*d, u*d + u + 1, (u + 1)*d + u + 1, u*d + 1]  // from `x^4 + x^3 + 1`\n",
    "#   [u*d + u, (u + 1)*d + u, u*d, (u + 1)*d + 1]          // from `x^4 + x^3 + x^2 + x + 1`\n",
    "\n",
    "conjugates(u*d+1), conjugates(u*d)\n",
    "\n",
    "# Output:\n",
    "# ([u*d + 1, (u + 1)*d, u*d + u + 1, (u + 1)*d + u + 1],\n",
    "#    [u*d, (u + 1)*d + 1, u*d + u, (u + 1)*d + u])"
   ]
  },
  {
   "cell_type": "code",
   "execution_count": 40,
   "id": "479a9789-dfdb-4a5a-a830-40ea5a7eb67b",
   "metadata": {},
   "outputs": [
    {
     "data": {
      "text/plain": [
       "z * (z + 1) * (z + u) * (z + u + 1) * (z + d) * (z + d + 1) * (z + d + u) * (z + d + u + 1) * (z + u*d) * (z + u*d + 1) * (z + u*d + u) * (z + u*d + u + 1) * (z + (u + 1)*d) * (z + (u + 1)*d + 1) * (z + (u + 1)*d + u) * (z + (u + 1)*d + u + 1)"
      ]
     },
     "execution_count": 40,
     "metadata": {},
     "output_type": "execute_result"
    }
   ],
   "source": [
    "(z^16 -z).factor()"
   ]
  },
  {
   "cell_type": "code",
   "execution_count": 41,
   "id": "1a39c4a4-ebcb-4673-b276-84702f747ba6",
   "metadata": {},
   "outputs": [
    {
     "data": {
      "text/plain": [
       "z^4 + z + 1"
      ]
     },
     "execution_count": 41,
     "metadata": {},
     "output_type": "execute_result"
    }
   ],
   "source": [
    "minimal_poly_1 = (z-(d+u)) * (z -d) * (z - (d+1)) * (z - (d+u+1))\n",
    "minimal_poly_1"
   ]
  },
  {
   "cell_type": "code",
   "execution_count": 42,
   "id": "17214058-d9d5-4ffc-bfa5-6430ed17ce56",
   "metadata": {},
   "outputs": [
    {
     "name": "stdout",
     "output_type": "stream",
     "text": [
      " 1, ord=15, \t\t a\n",
      " 2, ord=15, \t\t a^2\n",
      " 3, ord=5, \t\t a^3\n",
      " 4, ord=15, \t\t a + 1\n",
      " 5, ord=3, \t\t a^2 + a\n",
      " 6, ord=5, \t\t a^3 + a^2\n",
      " 7, ord=15, \t\t a^3 + a + 1\n",
      " 8, ord=15, \t\t a^2 + 1\n",
      " 9, ord=5, \t\t a^3 + a\n",
      "10, ord=3, \t\t a^2 + a + 1\n",
      "11, ord=15, \t\t a^3 + a^2 + a\n",
      "12, ord=5, \t\t a^3 + a^2 + a + 1\n",
      "13, ord=15, \t\t a^3 + a^2 + 1\n",
      "14, ord=15, \t\t a^3 + 1\n",
      "15, ord=1, \t\t 1\n"
     ]
    }
   ],
   "source": [
    "# Field Embedding\n",
    "#\n",
    "# F4 is a subfield of F16\n",
    "# \n",
    "# Find a homomorphic map: \n",
    "#\n",
    "#  e : F4  --> F16_a\n",
    "#   \n",
    "#  such that (t + t') |--> e(t) + e(t')\n",
    "#            (t * t') |--> e(t) * e(t')\n",
    "# \n",
    "\n",
    "# Since `u^4 = 1`,  e(u^4) = e(u)^4 = 1\n",
    "# we can have:\n",
    "#\n",
    "#   ord(e(u)) = 3\n",
    "\n",
    "for i in range(1,16):\n",
    "    print(\"{:2}, ord={}, \\t\\t {}\".format(i, ord(a^i), a^i))"
   ]
  },
  {
   "cell_type": "code",
   "execution_count": 57,
   "id": "735223e8-1637-4784-8ab4-02ae0063e9c0",
   "metadata": {},
   "outputs": [
    {
     "data": {
      "text/plain": [
       "True"
      ]
     },
     "execution_count": 57,
     "metadata": {},
     "output_type": "execute_result"
    }
   ],
   "source": [
    "# There are only two elements with order 3\n",
    "#  (a^2 + a) and (a^2 + a + 1)\n",
    "\n",
    "# let e : u |--> a^2 + a\n",
    "\n",
    "is_homomorphic(u, a^2 + a)\n",
    "\n",
    "#   u   |--> a^2 + a\n",
    "#   u+1 |--> a^2 + a + 1\n",
    "#   1   |--> 1\n",
    "#   0   |--> 0"
   ]
  },
  {
   "cell_type": "code",
   "execution_count": 44,
   "id": "2d5c2397-d093-4efc-908c-9303bca0db4c",
   "metadata": {},
   "outputs": [
    {
     "data": {
      "text/plain": [
       "3"
      ]
     },
     "execution_count": 44,
     "metadata": {},
     "output_type": "execute_result"
    }
   ],
   "source": [
    "# Question: Can we find another 2-degree irreducible polynomial g(y) by which we extend F4 to F16_b (directly)?\n",
    "#  It will imply that `b` is exactly the root of g(y) and induce an embedding map:\n",
    "#    \n",
    "#    e:  F4 --> F16_b\n",
    "#        u |--> b^3 + b + 1  (ord(b^3 + b + 1) = 3)\n",
    "\n",
    "ord(b^3 + b + 1)"
   ]
  },
  {
   "cell_type": "code",
   "execution_count": 45,
   "id": "dfbc6cd3-f1b4-4082-a3a4-8eb21cbc0c3c",
   "metadata": {},
   "outputs": [
    {
     "data": {
      "text/plain": [
       "True"
      ]
     },
     "execution_count": 45,
     "metadata": {},
     "output_type": "execute_result"
    }
   ],
   "source": [
    "# Double check, the minimal polynomial of `(b^3 + b + 1)` over F2 is:\n",
    "\n",
    "minimal_poly((b^3 + b + 1), x) == x^2 + x + 1"
   ]
  },
  {
   "cell_type": "code",
   "execution_count": 46,
   "id": "4d02b94b-8ef5-493e-b567-4948886b19f5",
   "metadata": {},
   "outputs": [
    {
     "data": {
      "text/plain": [
       "x^2 + (b^3 + b + 1)*x + b^3 + b + 1"
      ]
     },
     "execution_count": 46,
     "metadata": {},
     "output_type": "execute_result"
    }
   ],
   "source": [
    "# Recall the partition of F16_b:\n",
    "#\n",
    "#   [0, 1]  // from F2\n",
    "#   [b^3 + b, b^3 + b + 1]                           // from  `x^2 + x + 1`\n",
    "#   [b^2 + b, b^3 + b^2 + 1, b^2 + b + 1, b^3 + b^2] // from `x^4 + x + 1`\n",
    "#   [b, b^2, b^3 + 1, b^3 + b^2 + b]                 // from `x^4 + x^3 + 1`\n",
    "#   [b + 1, b^2 + 1, b^3, b^3 + b^2 + b + 1]         // from `x^4 + x^3 + x^2 + x + 1`\n",
    "\n",
    "# The roots of `x^4 + x^3 + 1` are [b, b^2, b^3 + 1, b^3 + b^2 + b]\n",
    "# \n",
    "# The galois group of F16_b over F2 is:  Gal(F16/F2) = (ɩ, σ(), σ(σ()), σ(σ(σ())))\n",
    "# It has a subgroup:  Gal(F16/F4) = (ɩ, σ(σ())) ⊂  Gal(F16/F2)\n",
    "#\n",
    "# Thus, (b, b^4 = b^3 + 1) are the roots of some 2-degree irreducible polynormial over F4\n",
    "\n",
    "(x + b) * (x + b^3 + 1)"
   ]
  },
  {
   "cell_type": "code",
   "execution_count": 47,
   "id": "3d9f8dbf-8684-4a4d-b82d-c45b8dc7ffd0",
   "metadata": {},
   "outputs": [
    {
     "data": {
      "text/plain": [
       "Univariate Quotient Polynomial Ring in e over Finite Field in u of size 2^2 with modulus e^2 + u*e + u"
      ]
     },
     "execution_count": 47,
     "metadata": {},
     "output_type": "execute_result"
    }
   ],
   "source": [
    "# While, `(b^3 + b + 1)` is the root of `x^2 + x + 1`, as seen in the partition of F16_b\n",
    "# It has a name we are familiar with, `u`, which was used to construct F4 = F2(u). \n",
    "# \n",
    "# Therefore, `(b, b^4=b^3 + 1)` are two roots of `(y^2 + u * x + u)`:\n",
    "# \n",
    "#     u    = b, \n",
    "#    u + 1 = b^3 + 1\n",
    "#\n",
    "# Recall that `(y^2 + u * x + u)` is indeed irreducible over F4. It is what we are looking for.\n",
    "#\n",
    "# Construct F16_e = F4(e) by `(y^2 + u * x + u)`\n",
    "\n",
    "F16_e.<e> = F4.extension(y^2 + u*y + u, 'e')\n",
    "F16_e"
   ]
  },
  {
   "cell_type": "code",
   "execution_count": 48,
   "id": "188fe698-ce55-4287-9c14-708204713907",
   "metadata": {},
   "outputs": [
    {
     "data": {
      "text/plain": [
       "True"
      ]
     },
     "execution_count": 48,
     "metadata": {},
     "output_type": "execute_result"
    }
   ],
   "source": [
    "# Check if the following map is isomorphic:\n",
    "#\n",
    "#   f:  F16_e   --> F16_b\n",
    "#   f:      e  |--> b\n",
    "\n",
    "is_isomorphic(e, b)"
   ]
  },
  {
   "cell_type": "code",
   "execution_count": 49,
   "id": "91601324-60e5-4640-a212-3748c034c591",
   "metadata": {},
   "outputs": [
    {
     "data": {
      "text/plain": [
       "x^2 + (b^3 + b)*x + b^3 + b"
      ]
     },
     "execution_count": 49,
     "metadata": {},
     "output_type": "execute_result"
    }
   ],
   "source": [
    "# In the partition table of F16_b, [b, b^2, b^3 + 1, b^3 + b^2 + b]\n",
    "#  the 1st and 3rd elements are roots of (y^2 + u * x + u),\n",
    "# What about 2nd and 4th elements, (b^2, (b^2)^4=b^3 + b^2 + b)\n",
    "\n",
    "(x + b^2) * (x + (b^2)^4)\n",
    "\n",
    "# Output:\n",
    "#   x^2 + (b^3 + b)*x + b^3 + b\n",
    "#\n",
    "# (b^3 + b) has an alternative name, (u+1).\n",
    "#   and is one root of (y^2 + (u+1)*y + (u+1))"
   ]
  },
  {
   "cell_type": "code",
   "execution_count": 50,
   "id": "2049058e-ff72-4df6-bf34-77ec9557b89c",
   "metadata": {},
   "outputs": [
    {
     "data": {
      "text/plain": [
       "y^2 + (u + 1)*y + u + 1"
      ]
     },
     "execution_count": 50,
     "metadata": {},
     "output_type": "execute_result"
    }
   ],
   "source": [
    "# Check if `(y^2 + (u+1)*y + (u+1))` is irreducible\n",
    "\n",
    "(y^2 + (u+1)*y + (u+1)).factor()\n",
    "\n",
    "# Output:\n",
    "#   y^2 + (u + 1)*y + u + 1"
   ]
  }
 ],
 "metadata": {
  "kernelspec": {
   "display_name": "SageMath 10.3",
   "language": "sage",
   "name": "sagemath-10.3"
  },
  "language_info": {
   "codemirror_mode": {
    "name": "ipython",
    "version": 3
   },
   "file_extension": ".py",
   "mimetype": "text/x-python",
   "name": "python",
   "nbconvert_exporter": "python",
   "pygments_lexer": "ipython3",
   "version": "3.11.8"
  }
 },
 "nbformat": 4,
 "nbformat_minor": 5
}
