{
 "cells": [
  {
   "cell_type": "markdown",
   "id": "ad55fdb0-596a-4204-a450-c2d1a288c010",
   "metadata": {},
   "source": [
    "# Finite Fields 02: $\\mathbb{F}_{2^3}$ over $\\mathbb{F}_2$"
   ]
  },
  {
   "cell_type": "code",
   "execution_count": 1,
   "id": "e753e734-c0db-4d73-84fc-fb4e3a4574f6",
   "metadata": {
    "editable": true,
    "slideshow": {
     "slide_type": ""
    },
    "tags": []
   },
   "outputs": [],
   "source": [
    "F2 = GF(2)\n",
    "R2.<x> = F2[]\n",
    "\n",
    "def ord(elem, card=None):\n",
    "    K = elem.parent()\n",
    "    if card == None:\n",
    "        card = K.order()\n",
    "    for i in range(1, card):\n",
    "        if elem**i == 1:\n",
    "            return i\n",
    "    return \"False\"\n",
    "    \n",
    "def log(s, t):\n",
    "    K = s.parent()\n",
    "    for i in range(1, K.order()):\n",
    "        if s^i == t:\n",
    "            return i\n",
    "    return \"Fail\"\n",
    "    \n",
    "def logtable(prim_elem):\n",
    "    K = prim_elem.parent()\n",
    "    for i in range(1, K.order()):  # Iterate from 0 to p-1\n",
    "        elem = prim_elem**i\n",
    "        print(\"{:3}, ord={}\\t = {}\".format(i, ord(elem), elem))\n"
   ]
  },
  {
   "cell_type": "code",
   "execution_count": 2,
   "id": "2cfdb36a-5f27-4733-ac8b-bcd173c07418",
   "metadata": {},
   "outputs": [],
   "source": [
    "# Construct F8, F_{2^3} with SOME irreducible polynomial (degree 3) \n",
    "\n",
    "# F2^3 Basis is (1, a, a^2)\n",
    "\n",
    "F8.<a> = GF(2^3, 'a')"
   ]
  },
  {
   "cell_type": "code",
   "execution_count": 3,
   "id": "5c1c4b19-56eb-4a00-9f8d-1b75d5046e88",
   "metadata": {},
   "outputs": [
    {
     "data": {
      "text/plain": [
       "[0, a, a^2, a + 1, a^2 + a, a^2 + a + 1, a^2 + 1, 1]"
      ]
     },
     "execution_count": 3,
     "metadata": {},
     "output_type": "execute_result"
    }
   ],
   "source": [
    "F8.list()"
   ]
  },
  {
   "cell_type": "code",
   "execution_count": 4,
   "id": "1a7c6e93-a3f3-4f93-b961-94c42d10fad3",
   "metadata": {},
   "outputs": [
    {
     "data": {
      "text/plain": [
       "a^2 + a + 1"
      ]
     },
     "execution_count": 4,
     "metadata": {},
     "output_type": "execute_result"
    }
   ],
   "source": [
    "# Compute multiplication on F8\n",
    "\n",
    "a^2 * (a+1) "
   ]
  },
  {
   "cell_type": "code",
   "execution_count": 5,
   "id": "ba6def52-529c-4af8-b8fd-19c6ed001e94",
   "metadata": {},
   "outputs": [
    {
     "data": {
      "text/plain": [
       "True"
      ]
     },
     "execution_count": 5,
     "metadata": {},
     "output_type": "execute_result"
    }
   ],
   "source": [
    "# Let's do some manual calculation\n",
    "#\n",
    "#    a^2 * (a+1) = a^3 + a^2 (by expansion)\n",
    "#\n",
    "#    a^3 + a^2 = a + 1 + a^2 (by result just returned)\n",
    "# \n",
    "#  ==> a^3 = a + 1  (remove a^2 from both sides)\n",
    "#\n",
    "#  ==>  a^3 + a + 1 = 0  (move the right-hand-side term `a + 1` to the left)\n",
    "\n",
    "a^3 + a + 1 == 0"
   ]
  },
  {
   "cell_type": "code",
   "execution_count": 6,
   "id": "74bd21fd-77c6-4fb8-abca-62cf2bc84c85",
   "metadata": {},
   "outputs": [
    {
     "data": {
      "text/plain": [
       "a^3 + a + 1"
      ]
     },
     "execution_count": 6,
     "metadata": {},
     "output_type": "execute_result"
    }
   ],
   "source": [
    "# Obviously, `a` is the root of (x^3 + x + 1 = 0)\n",
    "\n",
    "# So F8 must have been constructed by using (x^3 + x + 1) (irreducible over F2[x])\n",
    "\n",
    "# Check it,\n",
    "\n",
    "F8.polynomial()"
   ]
  },
  {
   "cell_type": "code",
   "execution_count": 7,
   "id": "d8c34d49-5be5-4d58-82a4-db7a5a85f26b",
   "metadata": {
    "editable": true,
    "slideshow": {
     "slide_type": ""
    },
    "tags": []
   },
   "outputs": [
    {
     "data": {
      "text/plain": [
       "[a, a^2, a^2 + a]"
      ]
     },
     "execution_count": 7,
     "metadata": {},
     "output_type": "execute_result"
    }
   ],
   "source": [
    "# There are three DISTINCT roots of (x^3 + x + 1)\n",
    "#\n",
    "#  1.  a \n",
    "#  2.  ?\n",
    "#  3.  ?\n",
    "\n",
    "def search_roots(g, poly):\n",
    "    K = g.parent()\n",
    "    r = []\n",
    "    for t in K:\n",
    "        v = poly.subs(t)\n",
    "        if v == 0:\n",
    "            r.append(t)\n",
    "    return r\n",
    "\n",
    "search_roots(a, x^3 + x + 1)\n",
    "\n",
    "# Output: \n",
    "#    [a, a^2, a^2 + a]"
   ]
  },
  {
   "cell_type": "code",
   "execution_count": 8,
   "id": "f71416ea-37fd-4805-95ee-13de1e2844c8",
   "metadata": {
    "editable": true,
    "slideshow": {
     "slide_type": ""
    },
    "tags": []
   },
   "outputs": [],
   "source": [
    "# There are three distinct roots of (x^3 + x + 1)\n",
    "#\n",
    "#  1.  a \n",
    "#  2.  a^2\n",
    "#  3.  a^2 + a"
   ]
  },
  {
   "cell_type": "code",
   "execution_count": 39,
   "id": "202d20dd-5d40-4e57-a74e-0b724f645c18",
   "metadata": {},
   "outputs": [
    {
     "data": {
      "text/plain": [
       "x * (x + 1) * (x^3 + x + 1) * (x^3 + x^2 + 1)"
      ]
     },
     "execution_count": 39,
     "metadata": {},
     "output_type": "execute_result"
    }
   ],
   "source": [
    "# F8 is the splitting field of (x^8 - x)\n",
    "#\n",
    "# Factorization over F2[x]\n",
    "\n",
    "(x^8 - x).factor()"
   ]
  },
  {
   "cell_type": "code",
   "execution_count": 40,
   "id": "c5cdcd5b-17b9-4828-b597-6490a69dbb2a",
   "metadata": {},
   "outputs": [
    {
     "data": {
      "text/plain": [
       "x * (x + 1) * (x + a) * (x + a + 1) * (x + a^2) * (x + a^2 + 1) * (x + a^2 + a) * (x + a^2 + a + 1)"
      ]
     },
     "execution_count": 40,
     "metadata": {},
     "output_type": "execute_result"
    }
   ],
   "source": [
    "# Factorization over F8[x]\n",
    "\n",
    "F8['x'](x^8 - x).factor()"
   ]
  },
  {
   "cell_type": "code",
   "execution_count": 11,
   "id": "b8f352aa-5dfe-4da3-a175-56545a69b614",
   "metadata": {},
   "outputs": [
    {
     "data": {
      "text/plain": [
       "a^2 + a"
      ]
     },
     "execution_count": 11,
     "metadata": {},
     "output_type": "execute_result"
    }
   ],
   "source": [
    "# We can see that (x^3 + x + 1) is irreducible over F2[x], but it is not the only one\n",
    "# The polynomial (x^3 + x^2 + 1) is another factor of (x^8 - x) and also irreducible over F2[x]\n",
    "\n",
    "# Clearly, `a` is not the root of (x^3 + x^2 + 1) = 0\n",
    "\n",
    "(x^3 + x^2 + 1).subs(x=a)\n",
    "\n",
    "# Output: a^2 + a"
   ]
  },
  {
   "cell_type": "code",
   "execution_count": 12,
   "id": "22e5605d-9b47-4843-ac63-7ae058f9ccfb",
   "metadata": {},
   "outputs": [
    {
     "data": {
      "text/plain": [
       "True"
      ]
     },
     "execution_count": 12,
     "metadata": {},
     "output_type": "execute_result"
    }
   ],
   "source": [
    "# What are roots of (x^3 + x^2 + 1) = 0\n",
    "\n",
    "search_roots(a, x^3 + x^2 + 1) == [a + 1, a^2 + a + 1, a^2 + 1]"
   ]
  },
  {
   "cell_type": "code",
   "execution_count": 13,
   "id": "57bfa1e9-555d-4176-a5ac-9c3b376a3203",
   "metadata": {},
   "outputs": [],
   "source": [
    "# F8 Partition:\n",
    "#\n",
    "#   [0, 1]                        // from F2\n",
    "#   [a, a^2, a^2 + a]             // from the roots set of (x^3 + x + 1 = 0)\n",
    "#   [a + 1, a^2 + 1, a^2 + a + 1] // from the roots set of (x^3 + x^2 + 1 = 0)\n",
    "\n",
    "# Quiz: why the two root sets are disjoint?"
   ]
  },
  {
   "cell_type": "code",
   "execution_count": 14,
   "id": "0b8f49f7-4131-4542-a8f9-c9f3c4d586a2",
   "metadata": {},
   "outputs": [
    {
     "data": {
      "text/plain": [
       "True"
      ]
     },
     "execution_count": 14,
     "metadata": {},
     "output_type": "execute_result"
    }
   ],
   "source": [
    "# Let's take a closer look at one of them, [a, a^2, a^2 + a] \n",
    "#\n",
    "# Notice that the third root is `a^2 + a`\n",
    "\n",
    "a^2 + a == a^4\n",
    "\n",
    "# the roots of `x^3 + x + 1 = 0` is [a, a^2, a^4]"
   ]
  },
  {
   "cell_type": "code",
   "execution_count": 15,
   "id": "0ee7fda1-2981-45eb-8fee-70af59cffd97",
   "metadata": {},
   "outputs": [
    {
     "data": {
      "text/plain": [
       "(True, True)"
      ]
     },
     "execution_count": 15,
     "metadata": {},
     "output_type": "execute_result"
    }
   ],
   "source": [
    "# What about the other roots set\n",
    "#\n",
    "# Actually, `(a+1)^2` equals to the second root\n",
    "# and `(a+1)^4` equals to the third\n",
    "\n",
    "(a+1)^2 == (a^2 + 1), (a+1)^4 == (a^2 + a + 1)"
   ]
  },
  {
   "cell_type": "code",
   "execution_count": 41,
   "id": "df2741af-ef3d-44ba-a610-39040fcb2e40",
   "metadata": {},
   "outputs": [
    {
     "data": {
      "text/plain": [
       "[(a, a^2, a^2 + a, a), (a + 1, a^2 + 1, a^2 + a + 1, a + 1)]"
      ]
     },
     "execution_count": 41,
     "metadata": {},
     "output_type": "execute_result"
    }
   ],
   "source": [
    "# Froebenius Map: σ\n",
    "#\n",
    "# for any t \\in F_{p^m}, \n",
    "# \n",
    "#  σ : F8 --> F8\n",
    "#      t |--> t^p   (char = p)\n",
    "#\n",
    "# if `t` is one root of an irreducible polynomial, \n",
    "# then `σ(t)` is the next root \n",
    "# and `σ(σ(t))` is the next to the next, and so on.\n",
    "# Finally, σ(...(σ(t))) = t\n",
    "\n",
    "sigma = lambda t: t^2\n",
    "\n",
    "[(t, sigma(t), sigma(sigma(t)), sigma(sigma(sigma(t)))) for t in [a, a+1]]\n",
    "\n",
    "# Output:\n",
    "#    [(a, a^2, a^2 + a, a), (a + 1, a^2 + 1, a^2 + a + 1, a + 1)]"
   ]
  },
  {
   "cell_type": "code",
   "execution_count": 17,
   "id": "7bb5c499-4c23-4c11-bf8c-e1eed5e6c280",
   "metadata": {},
   "outputs": [
    {
     "data": {
      "text/plain": [
       "[(a^2, a^2 + a, a, a^2)]"
      ]
     },
     "execution_count": 17,
     "metadata": {},
     "output_type": "execute_result"
    }
   ],
   "source": [
    "# Surprisingly, we can get the root set starting from any root\n",
    "\n",
    "[(t, sigma(t), sigma(sigma(t)), sigma(sigma(sigma(t)))) for t in [a^2]]"
   ]
  },
  {
   "cell_type": "code",
   "execution_count": 18,
   "id": "9fa22506-0afa-496d-8e38-817fb5d1d175",
   "metadata": {},
   "outputs": [
    {
     "data": {
      "text/plain": [
       "[(a^2 + a, a, a^2, a^2 + a)]"
      ]
     },
     "execution_count": 18,
     "metadata": {},
     "output_type": "execute_result"
    }
   ],
   "source": [
    "# Again,\n",
    "\n",
    "[(t, sigma(t), sigma(sigma(t)), sigma(sigma(sigma(t)))) for t in [a^2 + a]]"
   ]
  },
  {
   "cell_type": "code",
   "execution_count": 19,
   "id": "8c588ea4-2945-4b62-9ef4-c39b26d4743d",
   "metadata": {},
   "outputs": [
    {
     "data": {
      "text/plain": [
       "[(a^2 + a + 1, a + 1, a^2 + 1, a^2 + a + 1)]"
      ]
     },
     "execution_count": 19,
     "metadata": {},
     "output_type": "execute_result"
    }
   ],
   "source": [
    "# The roots are ordered like an ORBIT. That's why it is often called Froebenius Orbit\n",
    "\n",
    "# Test one more case from `x^3 + x^2 + 1` roots\n",
    "\n",
    "[(t, sigma(t), sigma(sigma(t)), sigma(sigma(sigma(t)))) for t in [a^2 + a + 1]]"
   ]
  },
  {
   "cell_type": "code",
   "execution_count": 43,
   "id": "4a4e064d-6cdf-45a0-b50b-470157054019",
   "metadata": {
    "editable": true,
    "slideshow": {
     "slide_type": ""
    },
    "tags": []
   },
   "outputs": [],
   "source": [
    "# The elements on the same orbit are called conjugates\n",
    "\n",
    "def conjugates(t):\n",
    "    r = []\n",
    "    for i in [1,2,4,8,16]:\n",
    "        t2 = t^i\n",
    "        if t2 in r:\n",
    "            continue\n",
    "        r.append(t^i)\n",
    "    return r"
   ]
  },
  {
   "cell_type": "code",
   "execution_count": 42,
   "id": "f0c2086c-d303-447f-8197-f40c39418216",
   "metadata": {},
   "outputs": [
    {
     "data": {
      "text/plain": [
       "[a, a^2, a^2 + a]"
      ]
     },
     "execution_count": 42,
     "metadata": {},
     "output_type": "execute_result"
    }
   ],
   "source": [
    "conjugates(a)"
   ]
  },
  {
   "cell_type": "code",
   "execution_count": 44,
   "id": "ac06f8e4-7dd7-45b7-b666-38a93288b443",
   "metadata": {},
   "outputs": [
    {
     "data": {
      "text/plain": [
       "[a + 1, a^2 + 1, a^2 + a + 1]"
      ]
     },
     "execution_count": 44,
     "metadata": {},
     "output_type": "execute_result"
    }
   ],
   "source": [
    "conjugates(a+1)"
   ]
  },
  {
   "cell_type": "code",
   "execution_count": 22,
   "id": "5fab86d1-deae-4650-8388-a4ffed944a27",
   "metadata": {},
   "outputs": [],
   "source": [
    "# Definition:\n",
    "#\n",
    "#  σ : t ---> t^2,  forall t in F8\n",
    "#  ɩ : t ---> t,    forall t in F8\n",
    "#\n",
    "#  (ɩ, σ(.), σ(σ(.))) is a cyclic group, where `σ` is the group law and `ɩ` is the identity\n",
    "\n",
    "# The group has a legendary name: Galois Group, or `Gal(F8/F2)`\n",
    "#  \n",
    "# Froebenius Automorphism \n",
    "#\n",
    "# σ fixed F2\n",
    "#\n",
    "#  F8 -σ-> F8' -σ-> F8'' -+\n",
    "#   ^                     |\n",
    "#   |__________σ__________v\n",
    "#\n",
    "#  F8  = {t0,         t1 ,        t2 , ...,      t7}\n",
    "#  F8' = {σ(t0),    σ(t1),      σ(t2), ...,    σ(t7)}\n",
    "#  F8''= {σ(σ(t0)), σ(σ(t1)), σ(σ(t2)), ..., σ(σ(t7))}\n",
    "#\n",
    "#  F8, F8', F8'' are isomorphic to each other\n"
   ]
  },
  {
   "cell_type": "code",
   "execution_count": 23,
   "id": "74a75495-0237-4b29-abac-55166ff77e9c",
   "metadata": {},
   "outputs": [],
   "source": [
    "# Quiz: Is there any 3-degree irreducible polynomial other than `x^3+x+1` or `x^3+x^2+1`?"
   ]
  },
  {
   "cell_type": "code",
   "execution_count": 24,
   "id": "1de47e71-8559-41e4-9b0d-3f27d27232b0",
   "metadata": {},
   "outputs": [
    {
     "data": {
      "text/plain": [
       "Finite Field in b of size 2^3"
      ]
     },
     "execution_count": 24,
     "metadata": {},
     "output_type": "execute_result"
    }
   ],
   "source": [
    "# The irreducible polynomial (x^3+x^2+1) (over F2[x]) can also be used to construct another \"F8 over F2\" \n",
    "\n",
    "F8_alt.<b> = F2.extension((x^3 + x^2 + 1), 'b')\n",
    "F8_alt\n",
    "\n",
    "# Here, we use a new notation `b` to denote the adjoined root of (x^3+x^2+1=0)"
   ]
  },
  {
   "cell_type": "code",
   "execution_count": 25,
   "id": "47a6aa58-cab5-4e86-b50a-d15d093df30e",
   "metadata": {},
   "outputs": [
    {
     "data": {
      "text/plain": [
       "[0, b, b^2, b^2 + 1, b^2 + b + 1, b + 1, b^2 + b, 1]"
      ]
     },
     "execution_count": 25,
     "metadata": {},
     "output_type": "execute_result"
    }
   ],
   "source": [
    "F8_alt.list()"
   ]
  },
  {
   "cell_type": "code",
   "execution_count": 26,
   "id": "7afcc285-f271-4b64-b6fa-47e37a756e3c",
   "metadata": {},
   "outputs": [
    {
     "data": {
      "text/plain": [
       "[0, a, a^2, a + 1, a^2 + a, a^2 + a + 1, a^2 + 1, 1]"
      ]
     },
     "execution_count": 26,
     "metadata": {},
     "output_type": "execute_result"
    }
   ],
   "source": [
    "F8.list()"
   ]
  },
  {
   "cell_type": "code",
   "execution_count": 27,
   "id": "38bf7953-5b7c-49a3-85c6-cae5380f5838",
   "metadata": {},
   "outputs": [
    {
     "name": "stdout",
     "output_type": "stream",
     "text": [
      "  1, ord=7\t = b\n",
      "  2, ord=7\t = b^2\n",
      "  3, ord=7\t = b^2 + 1\n",
      "  4, ord=7\t = b^2 + b + 1\n",
      "  5, ord=7\t = b + 1\n",
      "  6, ord=7\t = b^2 + b\n",
      "  7, ord=1\t = 1\n"
     ]
    }
   ],
   "source": [
    "# They look similar, except that their elements are in different order\n",
    "\n",
    "# Print the logtable of F8_alt (let `b` the generator of F8_alt^*)\n",
    "\n",
    "logtable(b)"
   ]
  },
  {
   "cell_type": "code",
   "execution_count": 28,
   "id": "02159af6-d227-4782-a7d7-23c78bb9b428",
   "metadata": {},
   "outputs": [
    {
     "name": "stdout",
     "output_type": "stream",
     "text": [
      "  1, ord=7\t = a\n",
      "  2, ord=7\t = a^2\n",
      "  3, ord=7\t = a + 1\n",
      "  4, ord=7\t = a^2 + a\n",
      "  5, ord=7\t = a^2 + a + 1\n",
      "  6, ord=7\t = a^2 + 1\n",
      "  7, ord=1\t = 1\n"
     ]
    }
   ],
   "source": [
    "logtable(a)"
   ]
  },
  {
   "cell_type": "code",
   "execution_count": 29,
   "id": "63b30421-e448-4bdc-bddd-12b46029d251",
   "metadata": {},
   "outputs": [
    {
     "data": {
      "text/plain": [
       "(True, False)"
      ]
     },
     "execution_count": 29,
     "metadata": {},
     "output_type": "execute_result"
    }
   ],
   "source": [
    "# Notice that `a^3` doesn't look like `b^3`.\n",
    "#\n",
    "# The reason is:\n",
    "#\n",
    "#   a^3 = a + 1      (F8    = F2(a) is generated by `x^3 + x + 1`)\n",
    "#   b^3 = b^2 + 1    (F8_alt= F2(b) is generated by `x^3 + x^2 + 1`)\n",
    "#\n",
    "# Different irreducible polynomials imply different *\" arithmetics\n",
    "#\n",
    "# Therefore, the naive map f is NOT isomorphic\n",
    "#    f : F8 --> F8_alt\n",
    "#        a |--> b \n",
    "\n",
    "# A counter-example:\n",
    "\n",
    "# a + a^2 == a^4,  but f(a) + f(a^2) != f(a^4).\n",
    "# \n",
    "#   f(a) = b\n",
    "#   f(a^2) = b^2\n",
    "#   f(a^4) = b^4\n",
    "\n",
    "a + a^2 == a^4, b + b^2 == b^4"
   ]
  },
  {
   "cell_type": "code",
   "execution_count": 59,
   "id": "a39363fb-0b77-46b9-85d6-607a89668cfb",
   "metadata": {
    "editable": true,
    "slideshow": {
     "slide_type": ""
    },
    "tags": []
   },
   "outputs": [
    {
     "name": "stdout",
     "output_type": "stream",
     "text": [
      "1,2: (a) + (a^2) != (b) + (b^2)\n"
     ]
    }
   ],
   "source": [
    "# Define a function to check if a map is isomorphic\n",
    "\n",
    "def is_homomorphic(a, b, card=None):\n",
    "    if card == None:\n",
    "        card = a.parent().order()\n",
    "    if card != b.parent().order():\n",
    "        return \"Failed\"\n",
    "    result = True\n",
    "    for i in range(1, card):\n",
    "        for j in range(1, card):\n",
    "            aij = a^i + a^j\n",
    "            bij = b^i + b^j\n",
    "            r = log(a, aij) == log(b, bij)\n",
    "            if not r:\n",
    "                print(\"{},{}: ({}) + ({}) != ({}) + ({})\".format(i,j,a^i, a^j,b^i, b^j))\n",
    "                return\n",
    "            result = result and r\n",
    "    return result\n",
    "\n",
    "def is_isomorphic(a, b):\n",
    "    return (is_homomorphic(a, b) and is_homomorphic(b, a))\n",
    "    \n",
    "# For every two terms (a^i, b^j) both from F8\\{0} and F8_alt\\{0}, the Alg. `is_isomorphic()` checks \n",
    "#\n",
    "#   1. f(a^i) + f(a^j) = f(a^i + a^j)\n",
    "#   2. f(a^i) * f(a^j) = f(a^i * a^j)\n",
    "\n",
    "# If the two fields are not isomorphic, the Alg. print out the incorrect terms\n",
    "\n",
    "is_isomorphic(a, b)"
   ]
  },
  {
   "cell_type": "code",
   "execution_count": 58,
   "id": "42a56dea-b1cc-46e0-864f-766b1ca300e4",
   "metadata": {},
   "outputs": [
    {
     "data": {
      "text/plain": [
       "True"
      ]
     },
     "execution_count": 58,
     "metadata": {},
     "output_type": "execute_result"
    }
   ],
   "source": [
    "# What if we try again with a different map\n",
    "\n",
    "is_isomorphic(a, b+1)\n",
    "\n",
    "# f : F8 --> F8_alt\n",
    "#     a |--> b+1 \n",
    "# \n",
    "#  is the map we are looking for"
   ]
  },
  {
   "cell_type": "code",
   "execution_count": 60,
   "id": "582be699-8792-4a07-a3e2-d3d9f1bc85fc",
   "metadata": {},
   "outputs": [
    {
     "data": {
      "text/plain": [
       "True"
      ]
     },
     "execution_count": 60,
     "metadata": {},
     "output_type": "execute_result"
    }
   ],
   "source": [
    "# another map  f: b |--> a+1 is isomorphic \n",
    "\n",
    "is_isomorphic(b, a+1)"
   ]
  },
  {
   "cell_type": "code",
   "execution_count": 62,
   "id": "e0de1108-029c-4e6d-a0b6-dd8fc59ac686",
   "metadata": {},
   "outputs": [
    {
     "data": {
      "text/plain": [
       "[b + 1, b^2 + 1, b^2 + b]"
      ]
     },
     "execution_count": 62,
     "metadata": {},
     "output_type": "execute_result"
    }
   ],
   "source": [
    "# Any reasons?\n",
    "#\n",
    "# Notice that BOTH `a` and `b+1` are roots of the SAME irreducible polynomial (x^3 + x + 1)\n",
    "\n",
    "conjugates(b+1)"
   ]
  },
  {
   "cell_type": "code",
   "execution_count": 63,
   "id": "35224155-615e-4cb5-9b2a-60ce08de183f",
   "metadata": {},
   "outputs": [
    {
     "data": {
      "text/plain": [
       "[b, b^2, b^2 + b + 1]"
      ]
     },
     "execution_count": 63,
     "metadata": {},
     "output_type": "execute_result"
    }
   ],
   "source": [
    "conjugates(b)"
   ]
  },
  {
   "cell_type": "code",
   "execution_count": 64,
   "id": "f2a033ab-80c4-47bf-9bb8-8cc33a67fc15",
   "metadata": {},
   "outputs": [],
   "source": [
    "# F8_alt Partition:\n",
    "#\n",
    "#   [0, 1]                        // from F2\n",
    "#   [b, b^2, b^2 + b + 1]         // from the roots set of (x^3 + x^2 + 1)\n",
    "#   [b + 1, b^2 + 1, b^2 + b]     // from the roots set of (x^3 + x + 1)"
   ]
  },
  {
   "cell_type": "code",
   "execution_count": 65,
   "id": "2d6e7e7a-6bf5-4c9c-896e-367b36741bd7",
   "metadata": {},
   "outputs": [
    {
     "data": {
      "text/plain": [
       "(True, True)"
      ]
     },
     "execution_count": 65,
     "metadata": {},
     "output_type": "execute_result"
    }
   ],
   "source": [
    "# We guess that  f: a |--> b^2+1  is also isomorphic since they are from `x^3 + x + 1 = 0`\n",
    "#\n",
    "# Don't trust, verify!\n",
    "\n",
    "is_isomorphic(a, b^2+1), is_isomorphic(a, b^2+b)\n",
    "\n",
    "# Also `f: a |--> b^2+b`"
   ]
  },
  {
   "cell_type": "code",
   "execution_count": 66,
   "id": "283a8e9e-cce1-4ef9-ae37-83ca54b7259a",
   "metadata": {},
   "outputs": [
    {
     "name": "stdout",
     "output_type": "stream",
     "text": [
      "[a, a^2, a^2 + a]\n"
     ]
    },
    {
     "data": {
      "text/plain": [
       "x^3 + x + 1"
      ]
     },
     "execution_count": 66,
     "metadata": {},
     "output_type": "execute_result"
    }
   ],
   "source": [
    "# Minimal \n",
    "#\n",
    "\n",
    "def minimal_poly(t):\n",
    "    roots = conjugates(t)\n",
    "    print(roots)\n",
    "    poly = 1\n",
    "    for r in roots:\n",
    "        poly = poly * (x+r)\n",
    "    return poly\n",
    "\n",
    "minimal_poly(a)"
   ]
  },
  {
   "cell_type": "code",
   "execution_count": 67,
   "id": "f28dc3f6-59e2-403f-b381-f7e19a85f823",
   "metadata": {},
   "outputs": [
    {
     "name": "stdout",
     "output_type": "stream",
     "text": [
      "[b + 1, b^2 + 1, b^2 + b]\n"
     ]
    },
    {
     "data": {
      "text/plain": [
       "x^3 + x + 1"
      ]
     },
     "execution_count": 67,
     "metadata": {},
     "output_type": "execute_result"
    }
   ],
   "source": [
    "minimal_poly(b+1)"
   ]
  }
 ],
 "metadata": {
  "kernelspec": {
   "display_name": "SageMath 10.3",
   "language": "sage",
   "name": "sagemath-10.3"
  },
  "language_info": {
   "codemirror_mode": {
    "name": "ipython",
    "version": 3
   },
   "file_extension": ".py",
   "mimetype": "text/x-python",
   "name": "python",
   "nbconvert_exporter": "python",
   "pygments_lexer": "ipython3",
   "version": "3.11.8"
  }
 },
 "nbformat": 4,
 "nbformat_minor": 5
}
